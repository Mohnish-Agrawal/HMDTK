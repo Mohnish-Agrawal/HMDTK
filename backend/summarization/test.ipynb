{
 "metadata": {
  "language_info": {
   "codemirror_mode": {
    "name": "ipython",
    "version": 3
   },
   "file_extension": ".py",
   "mimetype": "text/x-python",
   "name": "python",
   "nbconvert_exporter": "python",
   "pygments_lexer": "ipython3",
   "version": "3.9.2"
  },
  "orig_nbformat": 2,
  "kernelspec": {
   "name": "python392jvsc74a57bd0a5a88d31acc47f956c828e2255bf08f2d8bdbaaf6eaf4e79e87d006fbb09c0aa",
   "display_name": "Python 3.9.2 64-bit ('psosm': conda)"
  },
  "metadata": {
   "interpreter": {
    "hash": "a5a88d31acc47f956c828e2255bf08f2d8bdbaaf6eaf4e79e87d006fbb09c0aa"
   }
  }
 },
 "nbformat": 4,
 "nbformat_minor": 2,
 "cells": [
  {
   "cell_type": "code",
   "execution_count": 1,
   "metadata": {},
   "outputs": [],
   "source": [
    "from summarization import getResults, init"
   ]
  },
  {
   "cell_type": "code",
   "execution_count": 2,
   "metadata": {},
   "outputs": [
    {
     "output_type": "stream",
     "name": "stdout",
     "text": [
      "File imported!\n",
      "File fitted\n"
     ]
    }
   ],
   "source": [
    "init('whatsapp.txt')"
   ]
  },
  {
   "cell_type": "code",
   "execution_count": 30,
   "metadata": {},
   "outputs": [],
   "source": [
    "answer = getResults(['Is my Information (camera access, location access, contacts) data being stored collected by this website'])"
   ]
  },
  {
   "cell_type": "code",
   "execution_count": 31,
   "metadata": {},
   "outputs": [
    {
     "output_type": "execute_result",
     "data": {
      "text/plain": [
       "'Information You Provide. WhatsApp receives or collects information when we operate and provide our Services, including when you install, access, or use our Services.'"
      ]
     },
     "metadata": {},
     "execution_count": 31
    }
   ],
   "source": [
    "answer[0][1]"
   ]
  },
  {
   "cell_type": "code",
   "execution_count": 28,
   "metadata": {},
   "outputs": [],
   "source": [
    "class PolicySummarizer(object):    \n",
    "    def __init__(self):\n",
    "        pass\n",
    "        \n",
    "    def summarize(self, policy, lines=10):\n",
    "        from sumy.parsers.plaintext import PlaintextParser\n",
    "        from sumy.nlp.tokenizers import Tokenizer\n",
    "        from sumy.summarizers.lex_rank import LexRankSummarizer\n",
    "        summarizer = LexRankSummarizer()\n",
    "        parser = PlaintextParser.from_string(policy, Tokenizer(\"english\"))\n",
    "        summary = summarizer(parser.document, lines)\n",
    "        return [str(s) for s in summary]"
   ]
  },
  {
   "cell_type": "code",
   "execution_count": 29,
   "metadata": {},
   "outputs": [
    {
     "output_type": "execute_result",
     "data": {
      "text/plain": [
       "['Our updated Terms and Privacy Policy are easier to understand and reflect new features such as WhatsApp Calling and WhatsApp for web and desktop.. We joined Facebook in 2014.',\n",
       " 'We do not want you to have a spammy experience; as with all of your messages, you can manage these communications, and we will honor the choices you make..',\n",
       " 'If you are an existing user, you can choose not to have your WhatsApp account information shared with Facebook to improve your Facebook ads and products experiences.']"
      ]
     },
     "metadata": {},
     "execution_count": 29
    }
   ],
   "source": [
    "ps = PolicySummarizer()\n",
    "# i = 1\n",
    "# for point in ps.summarize(answer[0][1], 3):\n",
    "#     print(str(i), point)\n",
    "#     i += 1\n",
    "summary = ps.summarize(answer[0][1], 3)\n",
    "summary"
   ]
  },
  {
   "cell_type": "code",
   "execution_count": null,
   "metadata": {},
   "outputs": [],
   "source": []
  }
 ]
}