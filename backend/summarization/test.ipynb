{
 "metadata": {
  "language_info": {
   "codemirror_mode": {
    "name": "ipython",
    "version": 3
   },
   "file_extension": ".py",
   "mimetype": "text/x-python",
   "name": "python",
   "nbconvert_exporter": "python",
   "pygments_lexer": "ipython3",
   "version": "3.9.2"
  },
  "orig_nbformat": 2,
  "kernelspec": {
   "name": "python392jvsc74a57bd0a5a88d31acc47f956c828e2255bf08f2d8bdbaaf6eaf4e79e87d006fbb09c0aa",
   "display_name": "Python 3.9.2 64-bit ('psosm': conda)"
  },
  "metadata": {
   "interpreter": {
    "hash": "a5a88d31acc47f956c828e2255bf08f2d8bdbaaf6eaf4e79e87d006fbb09c0aa"
   }
  }
 },
 "nbformat": 4,
 "nbformat_minor": 2,
 "cells": [
  {
   "cell_type": "code",
   "execution_count": 39,
   "metadata": {},
   "outputs": [
    {
     "output_type": "stream",
     "name": "stdout",
     "text": [
      "apple.txt\n",
      "File imported!\n",
      "File fitted\n"
     ]
    }
   ],
   "source": [
    "from summarization import getResults, init\n",
    "from sumy.parsers.plaintext import PlaintextParser\n",
    "from sumy.nlp.tokenizers import Tokenizer\n",
    "from sumy.summarizers.lex_rank import LexRankSummarizer\n",
    "from gensim.summarization import summarize\n",
    "import nltk\n",
    "from typing import List\n",
    "\n",
    "class PolicySummarizer(object):\n",
    "    def __init__(self):\n",
    "        pass\n",
    "\n",
    "    def summarize(self, policy: str, ratio: float = 0.1, word_count: int = 50) -> List[str]:\n",
    "        # summarizer = LexRankSummarizer()\n",
    "        # parser = PlaintextParser.from_string(policy, Tokenizer(\"english\"))\n",
    "        # summary = summarizer(parser.document, lines)\n",
    "        # return [str(s) for s in summary]\n",
    "        return summarize(policy, ratio=ratio)\n",
    "\n",
    "\n",
    "class QNA:\n",
    "    def __init__(self, policy_path: str) -> None:\n",
    "        self.ps = PolicySummarizer()\n",
    "        init(policy_path)\n",
    "\n",
    "    def get_answer(self, question: str) -> List[str]:\n",
    "        answers = getResults([question], 5)[0]\n",
    "        answer = ''\n",
    "        for ans in answers:\n",
    "            answer += ans + ' '\n",
    "        summary = self.ps.summarize(answer)\n",
    "        points = nltk.sent_tokenize(summary)\n",
    "        return points\n",
    "\n",
    "\n",
    "print('apple.txt')\n",
    "qna = QNA('apple.txt')"
   ]
  },
  {
   "cell_type": "code",
   "execution_count": 40,
   "metadata": {},
   "outputs": [
    {
     "output_type": "stream",
     "name": "stdout",
     "text": [
      "Q) how is my data information (user history, location history, cookie profilling, etc) collected/stored by this app?\n",
      "A)\n",
      "- When you create an Apple ID, apply for commercial credit, purchase and/or activate a product or device, download a software update, register for a class at an Apple Store, connect to our services, contact us (including by social media), participate in an online survey, or otherwise interact with Apple, we may collect a variety of information, including: Account Information.\n",
      "- Other Information You Provide to Us.\n",
      "- Details such as the content of your communications with Apple, including interactions with customer support and contacts through social media channels .\n",
      "- In addition to this Privacy Policy, we provide data and privacy information embedded in our products and certain features that ask to use your personal information.\n",
      "\n",
      "Q) Is my information or my data being shared to other products and services or with other third party services? If so, how is it being shared\n",
      "A)\n",
      "- .\n",
      "- Apple may receive personal data about you from other individuals, from businesses or third parties acting at your direction, from our partners who work with us to provide our products and services and assist us in security and fraud prevention, and from other lawful sources.\n",
      "\n",
      "Q) Is my data being used for Identity resolution, tracking me online or combines with data from other sources\n",
      "A)\n",
      "- When you create an Apple ID, apply for commercial credit, purchase and/or activate a product or device, download a software update, register for a class at an Apple Store, connect to our services, contact us (including by social media), participate in an online survey, or otherwise interact with Apple, we may collect a variety of information, including: Account Information.\n",
      "- Other Information You Provide to Us.\n",
      "- Details such as the content of your communications with Apple, including interactions with customer support and contacts through social media channels  .\n",
      "\n",
      "Q) Is my data information being sold, re-packaged, commercialized\n",
      "A)\n",
      "- When you create an Apple ID, apply for commercial credit, purchase and/or activate a product or device, download a software update, register for a class at an Apple Store, connect to our services, contact us (including by social media), participate in an online survey, or otherwise interact with Apple, we may collect a variety of information, including: Account Information.\n",
      "- Other Information You Provide to Us.\n",
      "- Details such as the content of your communications with Apple, including interactions with customer support and contacts through social media channels  .\n",
      "\n",
      "Q) Will my data information be retained. If so, for how long will this data be retained and for what purposes?\n",
      "A)\n",
      "- .\n",
      "- Apple retains personal data only for so long as necessary to fulfill the purposes for which it was collected, including as described in this Privacy Policy or in our service-specific privacy notices, or as required by law.\n",
      "\n"
     ]
    }
   ],
   "source": [
    "for q in questions:\n",
    "    print('Q)', q)\n",
    "    print('A)')\n",
    "    points = qna.get_answer(q)\n",
    "    for point in points:\n",
    "        print('-', point)\n",
    "    print()"
   ]
  },
  {
   "cell_type": "code",
   "execution_count": 18,
   "metadata": {},
   "outputs": [],
   "source": [
    "questions = ['how is my data information (user history, location history, cookie profilling, etc) collected/stored by this app?',\n",
    "        'Is my information or my data being shared to other products and services or with other third party services? If so, how is it being shared',\n",
    "        'Is my data being used for Identity resolution, tracking me online or combines with data from other sources',\n",
    "        'Is my data information being sold, re-packaged, commercialized',\n",
    "        'Will my data information be retained. If so, for how long will this data be retained and for what purposes?'                \n",
    "]"
   ]
  },
  {
   "cell_type": "code",
   "execution_count": null,
   "metadata": {},
   "outputs": [],
   "source": []
  }
 ]
}